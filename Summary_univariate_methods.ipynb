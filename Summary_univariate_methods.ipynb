{
 "cells": [
  {
   "cell_type": "code",
   "execution_count": 13,
   "metadata": {},
   "outputs": [],
   "source": [
    "import pandas as pd"
   ]
  },
  {
   "cell_type": "code",
   "execution_count": 30,
   "metadata": {},
   "outputs": [],
   "source": [
    "Summary_univariate_methods=pd.DataFrame({'Метод':['Половинного деления','Ньютона', 'Секущих','Золотого сечения','Половинного деления','Ньютона', 'Секущих','Золотого сечения'],\n",
    "              'Количество_итераций':[20, 5, 4, 21, 30, 6, 6, 22],\n",
    "              'x*':[0.000002,  0.0000000257, 0.0000000257, 0.000825, 0.00000000186, 0.0000000007139, 0.0000000007139, 0.00254],\n",
    "              'y*':[9.0, 9.0, 9.0, 9.0000048, 9.0, 9.0, 9.0, 9.0000452],\n",
    "              'Точность':[0.0001, 0.0001, 0.0001, 0.0001, 0.0000001, 0.0000001, 0.0000001, 0.0000001]})"
   ]
  },
  {
   "cell_type": "code",
   "execution_count": 44,
   "metadata": {},
   "outputs": [
    {
     "data": {
      "text/html": [
       "<div>\n",
       "<style scoped>\n",
       "    .dataframe tbody tr th:only-of-type {\n",
       "        vertical-align: middle;\n",
       "    }\n",
       "\n",
       "    .dataframe tbody tr th {\n",
       "        vertical-align: top;\n",
       "    }\n",
       "\n",
       "    .dataframe thead th {\n",
       "        text-align: right;\n",
       "    }\n",
       "</style>\n",
       "<table border=\"1\" class=\"dataframe\">\n",
       "  <thead>\n",
       "    <tr style=\"text-align: right;\">\n",
       "      <th></th>\n",
       "      <th></th>\n",
       "      <th>Количество_итераций</th>\n",
       "      <th>x*</th>\n",
       "      <th>y*</th>\n",
       "    </tr>\n",
       "    <tr>\n",
       "      <th>Метод</th>\n",
       "      <th>Точность</th>\n",
       "      <th></th>\n",
       "      <th></th>\n",
       "      <th></th>\n",
       "    </tr>\n",
       "  </thead>\n",
       "  <tbody>\n",
       "    <tr>\n",
       "      <td rowspan=\"2\" valign=\"top\">Золотого сечения</td>\n",
       "      <td>1.000000e-07</td>\n",
       "      <td>22</td>\n",
       "      <td>2.540000e-03</td>\n",
       "      <td>9.000045</td>\n",
       "    </tr>\n",
       "    <tr>\n",
       "      <td>1.000000e-04</td>\n",
       "      <td>21</td>\n",
       "      <td>8.250000e-04</td>\n",
       "      <td>9.000005</td>\n",
       "    </tr>\n",
       "    <tr>\n",
       "      <td rowspan=\"2\" valign=\"top\">Ньютона</td>\n",
       "      <td>1.000000e-07</td>\n",
       "      <td>6</td>\n",
       "      <td>7.139000e-10</td>\n",
       "      <td>9.000000</td>\n",
       "    </tr>\n",
       "    <tr>\n",
       "      <td>1.000000e-04</td>\n",
       "      <td>5</td>\n",
       "      <td>2.570000e-08</td>\n",
       "      <td>9.000000</td>\n",
       "    </tr>\n",
       "    <tr>\n",
       "      <td rowspan=\"2\" valign=\"top\">Половинного деления</td>\n",
       "      <td>1.000000e-07</td>\n",
       "      <td>30</td>\n",
       "      <td>1.860000e-09</td>\n",
       "      <td>9.000000</td>\n",
       "    </tr>\n",
       "    <tr>\n",
       "      <td>1.000000e-04</td>\n",
       "      <td>20</td>\n",
       "      <td>2.000000e-06</td>\n",
       "      <td>9.000000</td>\n",
       "    </tr>\n",
       "    <tr>\n",
       "      <td rowspan=\"2\" valign=\"top\">Секущих</td>\n",
       "      <td>1.000000e-07</td>\n",
       "      <td>6</td>\n",
       "      <td>7.139000e-10</td>\n",
       "      <td>9.000000</td>\n",
       "    </tr>\n",
       "    <tr>\n",
       "      <td>1.000000e-04</td>\n",
       "      <td>4</td>\n",
       "      <td>2.570000e-08</td>\n",
       "      <td>9.000000</td>\n",
       "    </tr>\n",
       "  </tbody>\n",
       "</table>\n",
       "</div>"
      ],
      "text/plain": [
       "                                  Количество_итераций            x*        y*\n",
       "Метод               Точность                                                 \n",
       "Золотого сечения    1.000000e-07                   22  2.540000e-03  9.000045\n",
       "                    1.000000e-04                   21  8.250000e-04  9.000005\n",
       "Ньютона             1.000000e-07                    6  7.139000e-10  9.000000\n",
       "                    1.000000e-04                    5  2.570000e-08  9.000000\n",
       "Половинного деления 1.000000e-07                   30  1.860000e-09  9.000000\n",
       "                    1.000000e-04                   20  2.000000e-06  9.000000\n",
       "Секущих             1.000000e-07                    6  7.139000e-10  9.000000\n",
       "                    1.000000e-04                    4  2.570000e-08  9.000000"
      ]
     },
     "execution_count": 44,
     "metadata": {},
     "output_type": "execute_result"
    }
   ],
   "source": [
    "Summary_univariate_methods.groupby(['Метод', 'Точность']).agg(sum)"
   ]
  },
  {
   "cell_type": "code",
   "execution_count": null,
   "metadata": {},
   "outputs": [],
   "source": []
  }
 ],
 "metadata": {
  "kernelspec": {
   "display_name": "Python 3",
   "language": "python",
   "name": "python3"
  },
  "language_info": {
   "codemirror_mode": {
    "name": "ipython",
    "version": 3
   },
   "file_extension": ".py",
   "mimetype": "text/x-python",
   "name": "python",
   "nbconvert_exporter": "python",
   "pygments_lexer": "ipython3",
   "version": "3.7.4"
  }
 },
 "nbformat": 4,
 "nbformat_minor": 2
}
