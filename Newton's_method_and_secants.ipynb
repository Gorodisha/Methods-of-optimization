{
 "cells": [
  {
   "cell_type": "code",
   "execution_count": 37,
   "metadata": {},
   "outputs": [],
   "source": [
    "#Границы и точность\n",
    "a=0\n",
    "b=1\n",
    "e=0.0000001\n"
   ]
  },
  {
   "cell_type": "code",
   "execution_count": 38,
   "metadata": {},
   "outputs": [],
   "source": [
    "#пакетики с запасом\n",
    "import numpy as np\n",
    "import math\n",
    "import sympy as sy\n",
    "from scipy.misc import derivative\n",
    "import seaborn as sns\n",
    "import matplotlib.pyplot as plt\n",
    "%matplotlib inline\n",
    "import pandas as pd"
   ]
  },
  {
   "cell_type": "code",
   "execution_count": 39,
   "metadata": {},
   "outputs": [],
   "source": [
    "# наша подопытная\n",
    "def f(x):\n",
    "    return x**4 + x**3 + 7*x**2 + 9"
   ]
  },
  {
   "cell_type": "code",
   "execution_count": 40,
   "metadata": {},
   "outputs": [],
   "source": [
    "#зададим х, чтобы\n",
    "x=np.arange(0,1,0.0001)"
   ]
  },
  {
   "cell_type": "code",
   "execution_count": 41,
   "metadata": {},
   "outputs": [
    {
     "data": {
      "text/plain": [
       "[<matplotlib.lines.Line2D at 0x2bc35bb2e08>]"
      ]
     },
     "execution_count": 41,
     "metadata": {},
     "output_type": "execute_result"
    },
    {
     "data": {
      "image/png": "[encoded data removed]",
      "text/plain": [
       "<Figure size 432x288 with 1 Axes>"
      ]
     },
     "metadata": {
      "needs_background": "light"
     },
     "output_type": "display_data"
    }
   ],
   "source": [
    "#посмотреть на график\n",
    "plt.plot(x,f(x))"
   ]
  },
  {
   "cell_type": "code",
   "execution_count": 42,
   "metadata": {},
   "outputs": [
    {
     "data": {
      "text/plain": [
       "29.99733794695203"
      ]
     },
     "execution_count": 42,
     "metadata": {},
     "output_type": "execute_result"
    }
   ],
   "source": [
    "#третья производная в 1\n",
    "derivative(f,1, dx=1e-4, n=3, order=5)"
   ]
  },
  {
   "cell_type": "code",
   "execution_count": 43,
   "metadata": {},
   "outputs": [
    {
     "data": {
      "text/plain": [
       "21.000000050008794"
      ]
     },
     "execution_count": 43,
     "metadata": {},
     "output_type": "execute_result"
    }
   ],
   "source": [
    "#первая производная в 1\n",
    "derivative(f,1, dx=1e-4)\n",
    "#обе положительные"
   ]
  },
  {
   "cell_type": "raw",
   "metadata": {},
   "source": [
    "derivative(f,1, dx=1e-4)"
   ]
  },
  {
   "cell_type": "code",
   "execution_count": 44,
   "metadata": {},
   "outputs": [
    {
     "data": {
      "text/plain": [
       "1.000088900582341e-08"
      ]
     },
     "execution_count": 44,
     "metadata": {},
     "output_type": "execute_result"
    }
   ],
   "source": [
    "#первая производная в 0\n",
    "derivative(f,0, dx=1e-4)"
   ]
  },
  {
   "cell_type": "code",
   "execution_count": 45,
   "metadata": {},
   "outputs": [
    {
     "data": {
      "text/plain": [
       "5.999645225074346"
      ]
     },
     "execution_count": 45,
     "metadata": {},
     "output_type": "execute_result"
    }
   ],
   "source": [
    "#третья производная в 0\n",
    "derivative(f,0, dx=1e-4, n=3, order=5)\n",
    "#обе отрицательные => Начинай откуда хочешь. Хочу с 1."
   ]
  },
  {
   "cell_type": "code",
   "execution_count": 46,
   "metadata": {},
   "outputs": [],
   "source": [
    "#старутем\n",
    "k = 1\n",
    "x = 1"
   ]
  },
  {
   "cell_type": "code",
   "execution_count": 47,
   "metadata": {},
   "outputs": [
    {
     "name": "stdout",
     "output_type": "stream",
     "text": [
      "   Шаг            x*   y*\n",
      "0    6 -7.139127e-10  9.0\n"
     ]
    }
   ],
   "source": [
    "#Метод Ньютона\n",
    "while abs(derivative(f, x, dx=1e-4)) > e:\n",
    "    k+=1\n",
    "    x = x-derivative(f,x, dx=1e-4)/derivative(f,x, dx=1e-4,n=2)\n",
    "print(pd.DataFrame({'Шаг':[k],'x*':[x],'y*':[f(x)]}))"
   ]
  },
  {
   "cell_type": "code",
   "execution_count": 48,
   "metadata": {},
   "outputs": [
    {
     "name": "stdout",
     "output_type": "stream",
     "text": [
      "   Шаг            x*   y*\n",
      "0    6 -7.139127e-10  9.0\n"
     ]
    }
   ],
   "source": [
    "#Метод секущих\n",
    "while abs(derivative(f, x, dx=1e-4)) > e:\n",
    "    if derivative(f, x, dx=1e-4)>0:\n",
    "        b=x\n",
    "    else:\n",
    "        a=x\n",
    "    k+=1\n",
    "    x=a-derivative(f, a, dx=1e-4)*(a-b)/(derivative(f, a, dx=1e-4)-derivative(f, b, dx=1e-4))\n",
    "print(pd.DataFrame({'Шаг':[k],'x*':[x],'y*':[f(x)]}))"
   ]
  },
  {
   "cell_type": "code",
   "execution_count": 16,
   "metadata": {},
   "outputs": [],
   "source": [
    "import plotly.graph_objects as go"
   ]
  },
  {
   "cell_type": "code",
   "execution_count": null,
   "metadata": {},
   "outputs": [],
   "source": []
  },
  {
   "cell_type": "code",
   "execution_count": 34,
   "metadata": {},
   "outputs": [],
   "source": []
  },
  {
   "cell_type": "code",
   "execution_count": 35,
   "metadata": {},
   "outputs": [
    {
     "data": {
      "text/plain": [
       "5.000000000000001"
      ]
     },
     "execution_count": 35,
     "metadata": {},
     "output_type": "execute_result"
    }
   ],
   "source": []
  },
  {
   "cell_type": "code",
   "execution_count": null,
   "metadata": {},
   "outputs": [],
   "source": []
  }
 ],
 "metadata": {
  "kernelspec": {
   "display_name": "Python 3",
   "language": "python",
   "name": "python3"
  },
  "language_info": {
   "codemirror_mode": {
    "name": "ipython",
    "version": 3
   },
   "file_extension": ".py",
   "mimetype": "text/x-python",
   "name": "python",
   "nbconvert_exporter": "python",
   "pygments_lexer": "ipython3",
   "version": "3.7.4"
  }
 },
 "nbformat": 4,
 "nbformat_minor": 2
}
